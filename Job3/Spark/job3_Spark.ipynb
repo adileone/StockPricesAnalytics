{
 "cells": [
  {
   "cell_type": "code",
   "execution_count": 1,
   "metadata": {},
   "outputs": [],
   "source": [
    "from pyspark.sql.functions import year\n",
    "from pyspark.sql import functions as F\n",
    "from pyspark.sql.window import Window"
   ]
  },
  {
   "cell_type": "code",
   "execution_count": 2,
   "metadata": {},
   "outputs": [],
   "source": [
    "stock_prices = spark.read.format('csv').option('header','true').option('inferSchema','true').option('mode','DROPMALFORMED')\\\n",
    ".load(\"file:///media/alessandro/storage/big_data-primoProgetto/dataset/historical_stock_prices.csv\")\n",
    "\n",
    "stocks = spark.read.format('csv').option('header','true').option('inferSchema','true').option('mode','DROPMALFORMED')\\\n",
    ".load(\"file:///media/alessandro/storage/big_data-primoProgetto/dataset/historical_stocks.csv\")"
   ]
  },
  {
   "cell_type": "code",
   "execution_count": 3,
   "metadata": {},
   "outputs": [],
   "source": [
    "stock_prices=stock_prices.select('ticker','close',year(\"date\").alias('year'))"
   ]
  },
  {
   "cell_type": "code",
   "execution_count": 4,
   "metadata": {},
   "outputs": [],
   "source": [
    "stocks=stocks.select('ticker','sector')"
   ]
  },
  {
   "cell_type": "code",
   "execution_count": 5,
   "metadata": {},
   "outputs": [],
   "source": [
    "joined = stock_prices.join(stocks, on='ticker')"
   ]
  },
  {
   "cell_type": "code",
   "execution_count": 6,
   "metadata": {},
   "outputs": [
    {
     "name": "stdout",
     "output_type": "stream",
     "text": [
      "+------+----------------+----+-------+\n",
      "|ticker|           close|year| sector|\n",
      "+------+----------------+----+-------+\n",
      "|   AHH|11.5799999237061|2013|FINANCE|\n",
      "|   AHH|11.5500001907349|2013|FINANCE|\n",
      "+------+----------------+----+-------+\n",
      "only showing top 2 rows\n",
      "\n"
     ]
    }
   ],
   "source": [
    "joined.show(2,truncate= True)"
   ]
  },
  {
   "cell_type": "code",
   "execution_count": 7,
   "metadata": {},
   "outputs": [],
   "source": [
    "filtered = joined.filter((joined.year <= '2018') & (joined.year >= '2015') & (joined.sector != 'N/A'))"
   ]
  },
  {
   "cell_type": "code",
   "execution_count": 8,
   "metadata": {},
   "outputs": [],
   "source": [
    "intermediate1 = filtered.groupBy('ticker','year','sector').agg(F.sum(filtered.close).alias('actualQuote'))"
   ]
  },
  {
   "cell_type": "code",
   "execution_count": 9,
   "metadata": {},
   "outputs": [],
   "source": [
    "intermediate1 = intermediate1.sort(F.desc('ticker'),F.desc('year'))"
   ]
  },
  {
   "cell_type": "code",
   "execution_count": 10,
   "metadata": {},
   "outputs": [],
   "source": [
    "intermediate2 = intermediate1.withColumn('previousQuote',\n",
    "                                \n",
    "                    F.lead('actualQuote').over(Window.partitionBy('ticker').orderBy(F.desc('ticker'),F.desc('year'))))"
   ]
  },
  {
   "cell_type": "code",
   "execution_count": 11,
   "metadata": {},
   "outputs": [],
   "source": [
    "intermediate2 = intermediate2.sort(F.desc('ticker'),F.desc('year'))"
   ]
  },
  {
   "cell_type": "code",
   "execution_count": 12,
   "metadata": {},
   "outputs": [
    {
     "name": "stdout",
     "output_type": "stream",
     "text": [
      "+------+----+-----------+------------------+-----------------+\n",
      "|ticker|year|     sector|       actualQuote|    previousQuote|\n",
      "+------+----+-----------+------------------+-----------------+\n",
      "|  ZYNE|2018|HEALTH CARE|1615.8200020790102|3872.840003013611|\n",
      "|  ZYNE|2017|HEALTH CARE| 3872.840003013611|2483.950002670288|\n",
      "+------+----+-----------+------------------+-----------------+\n",
      "only showing top 2 rows\n",
      "\n"
     ]
    }
   ],
   "source": [
    "intermediate2.show(2,truncate= True)"
   ]
  },
  {
   "cell_type": "code",
   "execution_count": 13,
   "metadata": {},
   "outputs": [],
   "source": [
    "intermediate3 = intermediate2.withColumn('percentage',\n",
    "          F.round(100*(intermediate2['actualQuote'] - intermediate2['previousQuote']) / intermediate2['previousQuote']))"
   ]
  },
  {
   "cell_type": "code",
   "execution_count": 14,
   "metadata": {},
   "outputs": [],
   "source": [
    "intermediate3 = intermediate3.select('ticker','year','sector','percentage')\n",
    "\n",
    "intermediate3 = intermediate3.sort(F.desc('ticker'),F.desc('year'))"
   ]
  },
  {
   "cell_type": "code",
   "execution_count": 15,
   "metadata": {},
   "outputs": [],
   "source": [
    "intermediate3 = intermediate3.filter((intermediate3.year != '2015'))"
   ]
  },
  {
   "cell_type": "code",
   "execution_count": 16,
   "metadata": {},
   "outputs": [
    {
     "name": "stdout",
     "output_type": "stream",
     "text": [
      "+------+----+-----------+----------+\n",
      "|ticker|year|     sector|percentage|\n",
      "+------+----+-----------+----------+\n",
      "|  ZYNE|2018|HEALTH CARE|     -58.0|\n",
      "|  ZYNE|2017|HEALTH CARE|      56.0|\n",
      "|  ZYNE|2016|HEALTH CARE|      36.0|\n",
      "|  ZYME|2018|HEALTH CARE|      45.0|\n",
      "|  ZYME|2017|HEALTH CARE|      null|\n",
      "|   ZUO|2018| TECHNOLOGY|      null|\n",
      "+------+----+-----------+----------+\n",
      "only showing top 6 rows\n",
      "\n"
     ]
    }
   ],
   "source": [
    "intermediate3.show(6)"
   ]
  },
  {
   "cell_type": "code",
   "execution_count": 17,
   "metadata": {},
   "outputs": [],
   "source": [
    "intermediate4 = intermediate3.groupBy('ticker','sector').agg(F.collect_list(intermediate3.percentage).alias('trend'))"
   ]
  },
  {
   "cell_type": "code",
   "execution_count": 18,
   "metadata": {},
   "outputs": [],
   "source": [
    "intermediate4 = intermediate4.filter(F.size(intermediate4.trend) == 3)"
   ]
  },
  {
   "cell_type": "code",
   "execution_count": 19,
   "metadata": {},
   "outputs": [
    {
     "name": "stdout",
     "output_type": "stream",
     "text": [
      "+------+-----------------+--------------------+\n",
      "|ticker|           sector|               trend|\n",
      "+------+-----------------+--------------------+\n",
      "|   VVI|    MISCELLANEOUS| [-29.0, 48.0, 20.0]|\n",
      "|  TSLA|    CAPITAL GOODS| [-34.0, 49.0, -9.0]|\n",
      "|  TROV|      HEALTH CARE|[-86.0, -76.0, -3...|\n",
      "|  SSWN|   TRANSPORTATION|   [-34.0, 1.0, 0.0]|\n",
      "|  SERV|CONSUMER SERVICES|  [-15.0, 13.0, 9.0]|\n",
      "|  PTSI|   TRANSPORTATION| [22.0, -2.0, -54.0]|\n",
      "+------+-----------------+--------------------+\n",
      "only showing top 6 rows\n",
      "\n"
     ]
    }
   ],
   "source": [
    "intermediate4.show(6)"
   ]
  },
  {
   "cell_type": "code",
   "execution_count": 28,
   "metadata": {},
   "outputs": [],
   "source": [
    "result = intermediate4.alias('l').join(intermediate4.alias('r'), on='trend')\\\n",
    "    .where('r.sector != l.sector')\\\n",
    "    .select(F.col('l.ticker').alias('ticker1'), F.col('r.ticker').alias('ticker2'), 'l.trend')"
   ]
  },
  {
   "cell_type": "code",
   "execution_count": 30,
   "metadata": {},
   "outputs": [],
   "source": [
    "result = result.sort('ticker1','ticker2')"
   ]
  },
  {
   "cell_type": "code",
   "execution_count": 34,
   "metadata": {},
   "outputs": [
    {
     "name": "stdout",
     "output_type": "stream",
     "text": [
      "+-------+-------+--------------------+\n",
      "|ticker1|ticker2|               trend|\n",
      "+-------+-------+--------------------+\n",
      "|   AFGE|    USM|  [-36.0, -1.0, 2.0]|\n",
      "|   AMKR|    UMH| [-41.0, 39.0, 14.0]|\n",
      "|   ARMK|  USATP|  [-33.0, 13.0, 9.0]|\n",
      "|   CAKE|    TDS|   [-36.0, 1.0, 1.0]|\n",
      "|    CCI|    TRV|  [-30.0, 10.0, 7.0]|\n",
      "|  CHSCM|    GYB|   [-37.0, 1.0, 5.0]|\n",
      "|  CHSCM|   MDLZ|   [-37.0, 1.0, 5.0]|\n",
      "|  CHSCP|    XOM|  [-36.0, -5.0, 4.0]|\n",
      "|    DCP|    UTX| [-28.0, 15.0, -6.0]|\n",
      "|   DLPH|   GNMK|[-61.0, 21.0, -15.0]|\n",
      "|    DTQ|    PRH|  [-36.0, -2.0, 3.0]|\n",
      "|   DUKH|    PJH|  [-35.0, -2.0, 3.0]|\n",
      "|    EAE|    ZBK|  [-36.0, -3.0, 4.0]|\n",
      "|   GNMK|   DLPH|[-61.0, 21.0, -15.0]|\n",
      "|    GYB|  CHSCM|   [-37.0, 1.0, 5.0]|\n",
      "|    GYB|   MDLZ|   [-37.0, 1.0, 5.0]|\n",
      "|    HST|    PKE|[-29.0, 14.0, -17.0]|\n",
      "|    HTA|  SENEA|  [-44.0, 1.0, 16.0]|\n",
      "|    ISG|    TDJ|   [-35.0, 0.0, 0.0]|\n",
      "|    JOE|   SSWN|   [-34.0, 1.0, 0.0]|\n",
      "|  LBTYK|    SUN|[-39.0, -3.0, -30.0]|\n",
      "|   MDLZ|  CHSCM|   [-37.0, 1.0, 5.0]|\n",
      "|   MDLZ|    GYB|   [-37.0, 1.0, 5.0]|\n",
      "|   MGLN|   PRGS|  [-20.0, 23.0, 3.0]|\n",
      "|   MYRG|     RY|  [-31.0, 24.0, 0.0]|\n",
      "|    NVS|   PARR| [-34.0, 5.0, -21.0]|\n",
      "+-------+-------+--------------------+\n",
      "only showing top 26 rows\n",
      "\n"
     ]
    }
   ],
   "source": [
    "result.show(26)"
   ]
  }
 ],
 "metadata": {
  "kernelspec": {
   "display_name": "Python 3",
   "language": "python",
   "name": "python3"
  },
  "language_info": {
   "codemirror_mode": {
    "name": "ipython",
    "version": 3
   },
   "file_extension": ".py",
   "mimetype": "text/x-python",
   "name": "python",
   "nbconvert_exporter": "python",
   "pygments_lexer": "ipython3",
   "version": "3.6.5"
  }
 },
 "nbformat": 4,
 "nbformat_minor": 2
}
