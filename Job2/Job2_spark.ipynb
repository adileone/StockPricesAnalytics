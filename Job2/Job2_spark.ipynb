{
 "cells": [
  {
   "cell_type": "code",
   "execution_count": null,
   "metadata": {},
   "outputs": [],
   "source": [
    "import datetime\n",
    "startTime = datetime.now()"
   ]
  },
  {
   "cell_type": "code",
   "execution_count": 44,
   "metadata": {},
   "outputs": [],
   "source": [
    "stock_prices = spark.read.format('csv').option('header','true').option('inferSchema','true').option('mode','DROPMALFORMED')\\\n",
    ".load(\"file:///media/alessandro/storage/big_data-primoProgetto/dataset/historical_stock_prices.csv\")\n",
    "\n",
    "stocks = spark.read.format('csv').option('header','true').option('inferSchema','true').option('mode','DROPMALFORMED')\\\n",
    ".load(\"file:///media/alessandro/storage/big_data-primoProgetto/dataset/historical_stocks.csv\")"
   ]
  },
  {
   "cell_type": "code",
   "execution_count": 45,
   "metadata": {},
   "outputs": [
    {
     "name": "stdout",
     "output_type": "stream",
     "text": [
      "+------+----------------+----------------+----------------+-----+----------------+-------+-------------------+\n",
      "|ticker|            open|           close|       adj_close|  low|            high| volume|               date|\n",
      "+------+----------------+----------------+----------------+-----+----------------+-------+-------------------+\n",
      "|   AHH|            11.5|11.5799999237061|8.49315452575684|11.25|11.6800003051758|4633900|2013-05-08 00:00:00|\n",
      "|   AHH|11.6599998474121|11.5500001907349|8.47115135192871| 11.5|11.6599998474121| 275800|2013-05-09 00:00:00|\n",
      "+------+----------------+----------------+----------------+-----+----------------+-------+-------------------+\n",
      "only showing top 2 rows\n",
      "\n"
     ]
    }
   ],
   "source": [
    "stock_prices.show(2,truncate= True)"
   ]
  },
  {
   "cell_type": "code",
   "execution_count": 46,
   "metadata": {},
   "outputs": [],
   "source": [
    "from pyspark.sql.functions import year\n",
    "\n",
    "stock_prices=stock_prices.select('ticker','close','volume',year(\"date\").alias('year'))"
   ]
  },
  {
   "cell_type": "code",
   "execution_count": 47,
   "metadata": {},
   "outputs": [
    {
     "name": "stdout",
     "output_type": "stream",
     "text": [
      "+------+----------------+-------+----+\n",
      "|ticker|           close| volume|year|\n",
      "+------+----------------+-------+----+\n",
      "|   AHH|11.5799999237061|4633900|2013|\n",
      "|   AHH|11.5500001907349| 275800|2013|\n",
      "+------+----------------+-------+----+\n",
      "only showing top 2 rows\n",
      "\n"
     ]
    }
   ],
   "source": [
    "stock_prices.show(2,truncate= True)"
   ]
  },
  {
   "cell_type": "code",
   "execution_count": 48,
   "metadata": {},
   "outputs": [
    {
     "name": "stdout",
     "output_type": "stream",
     "text": [
      "+------+--------+--------------------+-------+--------------------+\n",
      "|ticker|exchange|                name| sector|            industry|\n",
      "+------+--------+--------------------+-------+--------------------+\n",
      "|   PIH|  NASDAQ|1347 PROPERTY INS...|FINANCE|PROPERTY-CASUALTY...|\n",
      "| PIHPP|  NASDAQ|1347 PROPERTY INS...|FINANCE|PROPERTY-CASUALTY...|\n",
      "+------+--------+--------------------+-------+--------------------+\n",
      "only showing top 2 rows\n",
      "\n"
     ]
    }
   ],
   "source": [
    "stocks.show(2,truncate= True)"
   ]
  },
  {
   "cell_type": "code",
   "execution_count": 49,
   "metadata": {},
   "outputs": [],
   "source": [
    "stocks=stocks.select('ticker','sector')"
   ]
  },
  {
   "cell_type": "code",
   "execution_count": 50,
   "metadata": {},
   "outputs": [
    {
     "name": "stdout",
     "output_type": "stream",
     "text": [
      "+------+-------+\n",
      "|ticker| sector|\n",
      "+------+-------+\n",
      "|   PIH|FINANCE|\n",
      "| PIHPP|FINANCE|\n",
      "+------+-------+\n",
      "only showing top 2 rows\n",
      "\n"
     ]
    }
   ],
   "source": [
    "stocks.show(2,truncate= True)"
   ]
  },
  {
   "cell_type": "code",
   "execution_count": 51,
   "metadata": {},
   "outputs": [],
   "source": [
    "joined = stock_prices.join(stocks, on='ticker')"
   ]
  },
  {
   "cell_type": "code",
   "execution_count": 52,
   "metadata": {},
   "outputs": [
    {
     "name": "stdout",
     "output_type": "stream",
     "text": [
      "+------+----------------+-------+----+-------+\n",
      "|ticker|           close| volume|year| sector|\n",
      "+------+----------------+-------+----+-------+\n",
      "|   AHH|11.5799999237061|4633900|2013|FINANCE|\n",
      "|   AHH|11.5500001907349| 275800|2013|FINANCE|\n",
      "+------+----------------+-------+----+-------+\n",
      "only showing top 2 rows\n",
      "\n"
     ]
    }
   ],
   "source": [
    "joined.show(2,truncate= True)"
   ]
  },
  {
   "cell_type": "code",
   "execution_count": 53,
   "metadata": {},
   "outputs": [],
   "source": [
    "filtered = joined.filter((joined.year <= '2018') & (joined.year >= '2004') & (joined.sector != 'N/A'))"
   ]
  },
  {
   "cell_type": "code",
   "execution_count": 54,
   "metadata": {},
   "outputs": [
    {
     "name": "stdout",
     "output_type": "stream",
     "text": [
      "+------+----------------+-------+----+-------+\n",
      "|ticker|           close| volume|year| sector|\n",
      "+------+----------------+-------+----+-------+\n",
      "|   AHH|11.5799999237061|4633900|2013|FINANCE|\n",
      "|   AHH|11.5500001907349| 275800|2013|FINANCE|\n",
      "+------+----------------+-------+----+-------+\n",
      "only showing top 2 rows\n",
      "\n"
     ]
    }
   ],
   "source": [
    "filtered.show(2,truncate= True)"
   ]
  },
  {
   "cell_type": "code",
   "execution_count": 55,
   "metadata": {},
   "outputs": [],
   "source": [
    "from pyspark.sql import functions as F"
   ]
  },
  {
   "cell_type": "code",
   "execution_count": 56,
   "metadata": {},
   "outputs": [],
   "source": [
    "intermediate1 = filtered.groupBy('sector','year').agg(F.sum(filtered.volume).alias('volCompl'),F.mean(filtered.close).alias('avg_volume'))"
   ]
  },
  {
   "cell_type": "code",
   "execution_count": 57,
   "metadata": {},
   "outputs": [
    {
     "name": "stdout",
     "output_type": "stream",
     "text": [
      "+--------------+----+-----------+------------------+\n",
      "|        sector|year|   volCompl|        avg_volume|\n",
      "+--------------+----+-----------+------------------+\n",
      "|TRANSPORTATION|2018|15782363800|38.687121291895146|\n",
      "|TRANSPORTATION|2017|24750549271| 81.58107063923603|\n",
      "|TRANSPORTATION|2016|26396056641|182.52985818188077|\n",
      "|TRANSPORTATION|2015|26978967802| 38.55247294917033|\n",
      "|TRANSPORTATION|2014|24014045100|51.800322936979065|\n",
      "|TRANSPORTATION|2013|20484526900| 88.79075188995279|\n",
      "|TRANSPORTATION|2012|20500094900| 76.24410309342095|\n",
      "|TRANSPORTATION|2011|24018175100| 91.58842951034882|\n",
      "|TRANSPORTATION|2010|25103251800|164.75943292272206|\n",
      "|TRANSPORTATION|2009|32166875600| 419.3358372236049|\n",
      "|TRANSPORTATION|2008|34045323700|1876.2985562946167|\n",
      "|TRANSPORTATION|2007|22648103900|4028.5854687609935|\n",
      "|TRANSPORTATION|2006|15731458900|  4601.59876628527|\n",
      "|TRANSPORTATION|2005|11779550500| 6546.023289996812|\n",
      "|TRANSPORTATION|2004|10146574000|  3875.09863624273|\n",
      "+--------------+----+-----------+------------------+\n",
      "only showing top 15 rows\n",
      "\n"
     ]
    }
   ],
   "source": [
    "intermediate1 = intermediate1.sort(F.desc('sector'),F.desc('year'))\n",
    "\n",
    "intermediate1.show(15,truncate= True)"
   ]
  },
  {
   "cell_type": "code",
   "execution_count": 58,
   "metadata": {},
   "outputs": [],
   "source": [
    "intermediate2 = filtered.groupBy('sector','year').agg(F.sum(filtered.close).alias('actualQuote'))"
   ]
  },
  {
   "cell_type": "code",
   "execution_count": 59,
   "metadata": {},
   "outputs": [
    {
     "name": "stdout",
     "output_type": "stream",
     "text": [
      "+--------------+----+-------------------+\n",
      "|        sector|year|        actualQuote|\n",
      "+--------------+----+-------------------+\n",
      "|TRANSPORTATION|2018|   696213.434768945|\n",
      "|TRANSPORTATION|2017| 2093370.2726027966|\n",
      "|TRANSPORTATION|2016|  4419230.396441516|\n",
      "|TRANSPORTATION|2015|  908257.7102095038|\n",
      "|TRANSPORTATION|2014|  1148205.958221078|\n",
      "|TRANSPORTATION|2013|  1809289.151261568|\n",
      "|TRANSPORTATION|2012|  1497205.452445507|\n",
      "|TRANSPORTATION|2011| 1807864.0101047754|\n",
      "|TRANSPORTATION|2010| 3128287.3529037237|\n",
      "|TRANSPORTATION|2009|  7604655.408050075|\n",
      "|TRANSPORTATION|2008|3.358762045622993E7|\n",
      "|TRANSPORTATION|2007|6.668920384986949E7|\n",
      "|TRANSPORTATION|2006|6.898716870414877E7|\n",
      "|TRANSPORTATION|2005|8.569399088934827E7|\n",
      "|TRANSPORTATION|2004|4.493951888450694E7|\n",
      "+--------------+----+-------------------+\n",
      "only showing top 15 rows\n",
      "\n"
     ]
    }
   ],
   "source": [
    "intermediate2 = intermediate2.sort(F.desc('sector'),F.desc('year'))\n",
    "\n",
    "intermediate2.show(15,truncate= True)"
   ]
  },
  {
   "cell_type": "code",
   "execution_count": 62,
   "metadata": {},
   "outputs": [],
   "source": [
    "from pyspark.sql.window import Window\n",
    "\n",
    "intermediate3 = intermediate2.withColumn('previousQuote',\n",
    "                                \n",
    "                    F.lead('actualQuote').over(Window.partitionBy('sector').orderBy(F.desc('sector'),F.desc('year'))))"
   ]
  },
  {
   "cell_type": "code",
   "execution_count": 72,
   "metadata": {},
   "outputs": [],
   "source": [
    "intermediate3 = intermediate3.sort(F.desc('sector'),F.desc('year'))"
   ]
  },
  {
   "cell_type": "code",
   "execution_count": 73,
   "metadata": {},
   "outputs": [
    {
     "name": "stdout",
     "output_type": "stream",
     "text": [
      "+--------------+----+-------------------+-------------------+\n",
      "|        sector|year|        actualQuote|      previousQuote|\n",
      "+--------------+----+-------------------+-------------------+\n",
      "|TRANSPORTATION|2018|   696213.434768945| 2093370.2726027966|\n",
      "|TRANSPORTATION|2017| 2093370.2726027966|  4419230.396441516|\n",
      "|TRANSPORTATION|2016|  4419230.396441516|  908257.7102095038|\n",
      "|TRANSPORTATION|2015|  908257.7102095038|  1148205.958221078|\n",
      "|TRANSPORTATION|2014|  1148205.958221078|  1809289.151261568|\n",
      "|TRANSPORTATION|2013|  1809289.151261568|  1497205.452445507|\n",
      "|TRANSPORTATION|2012|  1497205.452445507| 1807864.0101047754|\n",
      "|TRANSPORTATION|2011| 1807864.0101047754| 3128287.3529037237|\n",
      "|TRANSPORTATION|2010| 3128287.3529037237|  7604655.408050075|\n",
      "|TRANSPORTATION|2009|  7604655.408050075|3.358762045622993E7|\n",
      "|TRANSPORTATION|2008|3.358762045622993E7|6.668920384986949E7|\n",
      "|TRANSPORTATION|2007|6.668920384986949E7|6.898716870414877E7|\n",
      "|TRANSPORTATION|2006|6.898716870414877E7|8.569399088934827E7|\n",
      "|TRANSPORTATION|2005|8.569399088934827E7|4.493951888450694E7|\n",
      "|TRANSPORTATION|2004|4.493951888450694E7|               null|\n",
      "|    TECHNOLOGY|2018|  4199295.516499909|  5224568.841087533|\n",
      "|    TECHNOLOGY|2017|  5224568.841087533| 4126194.5128941434|\n",
      "|    TECHNOLOGY|2016| 4126194.5128941434|   4180371.38596679|\n",
      "|    TECHNOLOGY|2015|   4180371.38596679|  3939327.640871904|\n",
      "|    TECHNOLOGY|2014|  3939327.640871904|  3031081.566921428|\n",
      "+--------------+----+-------------------+-------------------+\n",
      "only showing top 20 rows\n",
      "\n"
     ]
    }
   ],
   "source": [
    "intermediate3.show(15,truncate= True)"
   ]
  },
  {
   "cell_type": "code",
   "execution_count": 86,
   "metadata": {},
   "outputs": [],
   "source": [
    "result = intermediate3.withColumn('percentage', \n",
    "          (100*(intermediate3['actualQuote'] - intermediate3['previousQuote']) / intermediate3['previousQuote']) )\n",
    "\n",
    "result = result.join(intermediate1, on=['sector','year'])\n",
    "\n",
    "result = result.select('sector','year','volCompl','percentage','avg_volume')\n",
    "\n",
    "result = result.sort(F.desc('sector'),F.desc('year'))"
   ]
  },
  {
   "cell_type": "code",
   "execution_count": 87,
   "metadata": {},
   "outputs": [
    {
     "name": "stdout",
     "output_type": "stream",
     "text": [
      "+--------------+----+-----------+-------------------+------------------+\n",
      "|        sector|year|   volCompl|         percentage|        avg_volume|\n",
      "+--------------+----+-----------+-------------------+------------------+\n",
      "|TRANSPORTATION|2018|15782363800| -66.74198330411436|38.687121291895146|\n",
      "|TRANSPORTATION|2017|24750549271|-52.630433699758335| 81.58107063923603|\n",
      "|TRANSPORTATION|2016|26396056641|  386.5612861598666|182.52985818188077|\n",
      "|TRANSPORTATION|2015|26978967802|-20.897666162900542| 38.55247294917033|\n",
      "|TRANSPORTATION|2014|24014045100| -36.53828314725343|51.800322936979065|\n",
      "|TRANSPORTATION|2013|20484526900| 20.844413724670144| 88.79075188995279|\n",
      "|TRANSPORTATION|2012|20500094900|-17.183734834196077| 76.24410309342095|\n",
      "|TRANSPORTATION|2011|24018175100| -42.20914493591234| 91.58842951034882|\n",
      "|TRANSPORTATION|2010|25103251800| -58.86352260495319|164.75943292272206|\n",
      "|TRANSPORTATION|2009|32166875600|  -77.3587550866839| 419.3358372236049|\n",
      "|TRANSPORTATION|2008|34045323700| -49.63559539285808|1876.2985562946167|\n",
      "|TRANSPORTATION|2007|22648103900|-3.3310032828482843|4028.5854687609935|\n",
      "|TRANSPORTATION|2006|15731458900|-19.495908653352437|  4601.59876628527|\n",
      "|TRANSPORTATION|2005|11779550500|  90.68737943007125| 6546.023289996812|\n",
      "|TRANSPORTATION|2004|10146574000|               null|  3875.09863624273|\n",
      "+--------------+----+-----------+-------------------+------------------+\n",
      "only showing top 15 rows\n",
      "\n"
     ]
    }
   ],
   "source": [
    "result.show(15,truncate= True)"
   ]
  }
 ],
 "metadata": {
  "kernelspec": {
   "display_name": "Python 3",
   "language": "python",
   "name": "python3"
  },
  "language_info": {
   "codemirror_mode": {
    "name": "ipython",
    "version": 3
   },
   "file_extension": ".py",
   "mimetype": "text/x-python",
   "name": "python",
   "nbconvert_exporter": "python",
   "pygments_lexer": "ipython3",
   "version": "3.6.5"
  }
 },
 "nbformat": 4,
 "nbformat_minor": 2
}
