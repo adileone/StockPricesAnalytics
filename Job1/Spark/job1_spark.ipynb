{
 "cells": [
  {
   "cell_type": "code",
   "execution_count": null,
   "metadata": {},
   "outputs": [],
   "source": [
    "import datetime\n",
    "startTime = datetime.now()"
   ]
  },
  {
   "cell_type": "code",
   "execution_count": 1,
   "metadata": {},
   "outputs": [],
   "source": [
    "dataFrame = spark.read.format('csv').option('header','true').option('inferSchema','true').option('mode','DROPMALFORMED')\\\n",
    ".load(\"file:///media/alessandro/storage/big_data-primoProgetto/dataset/historical_stock_prices.csv\")"
   ]
  },
  {
   "cell_type": "code",
   "execution_count": 2,
   "metadata": {},
   "outputs": [
    {
     "name": "stdout",
     "output_type": "stream",
     "text": [
      "root\n",
      " |-- ticker: string (nullable = true)\n",
      " |-- open: double (nullable = true)\n",
      " |-- close: double (nullable = true)\n",
      " |-- adj_close: double (nullable = true)\n",
      " |-- low: double (nullable = true)\n",
      " |-- high: double (nullable = true)\n",
      " |-- volume: long (nullable = true)\n",
      " |-- date: timestamp (nullable = true)\n",
      "\n"
     ]
    }
   ],
   "source": [
    "dataFrame.printSchema()"
   ]
  },
  {
   "cell_type": "code",
   "execution_count": 3,
   "metadata": {},
   "outputs": [
    {
     "name": "stdout",
     "output_type": "stream",
     "text": [
      "+------+----------------+----------------+----------------+-----+----------------+-------+-------------------+\n",
      "|ticker|            open|           close|       adj_close|  low|            high| volume|               date|\n",
      "+------+----------------+----------------+----------------+-----+----------------+-------+-------------------+\n",
      "|   AHH|            11.5|11.5799999237061|8.49315452575684|11.25|11.6800003051758|4633900|2013-05-08 00:00:00|\n",
      "|   AHH|11.6599998474121|11.5500001907349|8.47115135192871| 11.5|11.6599998474121| 275800|2013-05-09 00:00:00|\n",
      "+------+----------------+----------------+----------------+-----+----------------+-------+-------------------+\n",
      "only showing top 2 rows\n",
      "\n"
     ]
    }
   ],
   "source": [
    "dataFrame.show(2,truncate= True)"
   ]
  },
  {
   "cell_type": "code",
   "execution_count": 23,
   "metadata": {},
   "outputs": [
    {
     "data": {
      "text/plain": [
       "20973889"
      ]
     },
     "execution_count": 23,
     "metadata": {},
     "output_type": "execute_result"
    }
   ],
   "source": [
    "dataFrame.count() "
   ]
  },
  {
   "cell_type": "code",
   "execution_count": 4,
   "metadata": {},
   "outputs": [],
   "source": [
    "df = dataFrame.filter((dataFrame.date < '2018-01-01') & (dataFrame.date > '1998-01-01'))"
   ]
  },
  {
   "cell_type": "code",
   "execution_count": 67,
   "metadata": {},
   "outputs": [
    {
     "data": {
      "text/plain": [
       "15946764"
      ]
     },
     "execution_count": 67,
     "metadata": {},
     "output_type": "execute_result"
    }
   ],
   "source": [
    "df.count()"
   ]
  },
  {
   "cell_type": "code",
   "execution_count": 5,
   "metadata": {},
   "outputs": [],
   "source": [
    "df = df.select('ticker','close', 'volume', 'date')"
   ]
  },
  {
   "cell_type": "code",
   "execution_count": 6,
   "metadata": {},
   "outputs": [
    {
     "name": "stdout",
     "output_type": "stream",
     "text": [
      "+------+----------------+-------+-------------------+\n",
      "|ticker|           close| volume|               date|\n",
      "+------+----------------+-------+-------------------+\n",
      "|   AHH|11.5799999237061|4633900|2013-05-08 00:00:00|\n",
      "|   AHH|11.5500001907349| 275800|2013-05-09 00:00:00|\n",
      "+------+----------------+-------+-------------------+\n",
      "only showing top 2 rows\n",
      "\n"
     ]
    }
   ],
   "source": [
    "df.show(2)"
   ]
  },
  {
   "cell_type": "code",
   "execution_count": 16,
   "metadata": {},
   "outputs": [],
   "source": [
    "from pyspark.sql import functions as F\n",
    "\n",
    "df1 = df.groupBy('ticker').agg((100*(F.last(df.close)-F.first(df.close))/F.first(df.close)).alias('percentageIncrease'),\n",
    "                               F.min(df.close).alias('min_close'), \n",
    "                               F.max(df.close).alias('max_close'), \n",
    "                               F.mean(df.volume).alias('avg_volume'))"
   ]
  },
  {
   "cell_type": "code",
   "execution_count": 25,
   "metadata": {},
   "outputs": [],
   "source": [
    "final = df1.orderBy(df1['percentageIncrease'].desc())"
   ]
  },
  {
   "cell_type": "code",
   "execution_count": 26,
   "metadata": {},
   "outputs": [
    {
     "name": "stdout",
     "output_type": "stream",
     "text": [
      "+------+------------------+-------------------+----------------+------------------+\n",
      "|ticker|percentageIncrease|          min_close|       max_close|        avg_volume|\n",
      "+------+------------------+-------------------+----------------+------------------+\n",
      "|   SAB|3864097.3488797136|                5.0|        318800.0| 1505460.228708134|\n",
      "|   PJT| 227899.9974668022|0.00999999977648258|10947.2001953125| 63190.23985890653|\n",
      "|  ORGS|183339.50194409874|0.00313999992795289|19.7999992370605|3871.6779825412223|\n",
      "|  MNST| 170454.6912056308| 0.0305979158729315|64.2300033569336|7489340.8464763425|\n",
      "|   PUB|151399.99957159112|0.00899999961256981|           135.0|  35213.1862170088|\n",
      "|   RMP| 144042.3316475156| 0.0299999993294477|78.5498504638672|108796.61352040817|\n",
      "|   UVE| 136650.0049639491| 0.0199999995529652|36.3199996948242|223893.03836633664|\n",
      "|   CCD|100250.00071711814| 0.0149999996647239|25.5499992370605| 112677.6008010681|\n",
      "|   STG| 91639.13043478261|   2.94000005722046|         36600.0| 92005.65220759102|\n",
      "|    KE| 91150.00203959632| 0.0149999996647239|22.2000007629395|  77960.0493218249|\n",
      "+------+------------------+-------------------+----------------+------------------+\n",
      "only showing top 10 rows\n",
      "\n"
     ]
    }
   ],
   "source": [
    "final.show(10)"
   ]
  },
  {
   "cell_type": "code",
   "execution_count": null,
   "metadata": {},
   "outputs": [],
   "source": [
    "print('Exec Time: ')\n",
    "print(datetime.now() - startTime)"
   ]
  }
 ],
 "metadata": {
  "kernelspec": {
   "display_name": "Python 3",
   "language": "python",
   "name": "python3"
  },
  "language_info": {
   "codemirror_mode": {
    "name": "ipython",
    "version": 3
   },
   "file_extension": ".py",
   "mimetype": "text/x-python",
   "name": "python",
   "nbconvert_exporter": "python",
   "pygments_lexer": "ipython3",
   "version": "3.6.5"
  }
 },
 "nbformat": 4,
 "nbformat_minor": 2
}
